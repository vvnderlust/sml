{
 "cells": [
  {
   "cell_type": "markdown",
   "metadata": {
    "id": "ORUKXuDMHcL9"
   },
   "source": [
    "# samsung dataset\n",
    "Train Dataset (학습용 데이터셋, 학습 가능) - 총 60664개 SEM [폴더] : 실제 SEM 영상을 Hole 단위로 분할한 영상 (8bit Gray 영상) average_depth.csv : 전체 SEM 영상과 대응되는 평균 Depth\n",
    "Simulation Dataset (학습용 데이터셋, 학습 가능) - 총 259956개\n",
    "SEM [폴더] : Simulator을 통해 생성한 Hole 단위 SEM 영상 (실제 SEM 영상과 유사하나, 대응 관계는 없음)\n",
    "Depth [폴더] : Simulator을 통해 얻은 SEM 영상과 Pixel별로 대응되는 Depth Map Depth 이미지 1개당 2개의 Simulator Hole 단위 SEM 영상이 Pair하게 매칭됩니다. (Name_itr0, Name_itr1)\n",
    "Test Dataset (평가를 위한 테스트 데이터셋, 학습 불가능) - 총 25998개 SEM [폴더] : 실제 SEM 영상을 Hole 단위로 분할한 영상 (8bit Gray 영상)\n",
    "sample_submission.zip (제출 양식) - 총 25998개 실제 Hole 단위 SEM 영상으로부터 추론한 Depth Map (.png, int)\n"
   ]
  },
  {
   "cell_type": "code",
   "execution_count": 1,
   "metadata": {
    "colab": {
     "base_uri": "https://localhost:8080/"
    },
    "id": "uKtxGoqj7XCs",
    "outputId": "92a92e0f-cccc-4fe9-cc05-2823f2e2288e"
   },
   "outputs": [
    {
     "name": "stdout",
     "output_type": "stream",
     "text": [
      "Looking in indexes: https://pypi.org/simple, https://us-python.pkg.dev/colab-wheels/public/simple/\n",
      "Requirement already satisfied: torchsummary in /usr/local/lib/python3.10/dist-packages (1.5.1)\n"
     ]
    }
   ],
   "source": [
    "!pip install torchsummary"
   ]
  },
  {
   "cell_type": "code",
   "execution_count": 2,
   "metadata": {
    "colab": {
     "base_uri": "https://localhost:8080/"
    },
    "id": "TeCPIN6cr5pz",
    "outputId": "f5795061-7dca-4d56-f322-ebb6170d5403"
   },
   "outputs": [
    {
     "name": "stdout",
     "output_type": "stream",
     "text": [
      "Tesla V100-SXM2-16GB\n"
     ]
    }
   ],
   "source": [
    "import torch\n",
    "\n",
    "print(torch.cuda.get_device_name())"
   ]
  },
  {
   "cell_type": "code",
   "execution_count": 3,
   "metadata": {
    "colab": {
     "base_uri": "https://localhost:8080/"
    },
    "id": "jSK2tLrqsFcz",
    "outputId": "e1c424bd-ef69-4ad6-9dac-d7f367abee41"
   },
   "outputs": [
    {
     "name": "stdout",
     "output_type": "stream",
     "text": [
      "1\n"
     ]
    }
   ],
   "source": [
    "print(torch.cuda.device_count())"
   ]
  },
  {
   "cell_type": "code",
   "execution_count": 4,
   "metadata": {
    "id": "AacHFbnEJl5-"
   },
   "outputs": [],
   "source": [
    "import os\n",
    "import glob\n",
    "import numpy as np\n",
    "import matplotlib.pyplot as plt\n",
    "from PIL import Image\n",
    "\n",
    "import torch\n",
    "import torch.nn as nn\n",
    "\n",
    "from torch.utils.data import Dataset\n",
    "from torch.utils.data import DataLoader\n",
    "import torchvision.transforms as transforms\n",
    "from torchvision.utils import save_image"
   ]
  },
  {
   "cell_type": "code",
   "execution_count": 5,
   "metadata": {
    "colab": {
     "base_uri": "https://localhost:8080/"
    },
    "id": "5CLCx4j3Mx6a",
    "outputId": "106d76bc-7f31-4778-b944-01f6478b96aa"
   },
   "outputs": [
    {
     "name": "stdout",
     "output_type": "stream",
     "text": [
      "/content\n"
     ]
    }
   ],
   "source": [
    "!pwd"
   ]
  },
  {
   "cell_type": "code",
   "execution_count": 6,
   "metadata": {
    "id": "OBhq3qAey8NW"
   },
   "outputs": [],
   "source": [
    "!unzip -qq \"/content/drive/MyDrive/SohwiLim/ml/dataset/open.zip\"    # 구글 드라이브에 있는 데이터 알집을 풀고 실험 진행"
   ]
  },
  {
   "cell_type": "code",
   "execution_count": 7,
   "metadata": {
    "id": "alCqsiDb3G3r"
   },
   "outputs": [],
   "source": [
    "import random\n",
    "import pandas as pd\n",
    "import numpy as np\n",
    "import os\n",
    "import glob\n",
    "import cv2\n",
    "\n",
    "import torch\n",
    "import torch.nn as nn\n",
    "import torch.optim as optim\n",
    "import torch.nn.functional as F\n",
    "from torch.utils.data import Dataset, DataLoader\n",
    "\n",
    "from tqdm.auto import tqdm\n",
    "from sklearn.metrics import mean_squared_error\n",
    "\n",
    "import warnings\n",
    "warnings.filterwarnings(action='ignore') "
   ]
  },
  {
   "cell_type": "code",
   "execution_count": 8,
   "metadata": {
    "id": "rn6V6dS13G85"
   },
   "outputs": [],
   "source": [
    "device = torch.device('cuda') if torch.cuda.is_available() else torch.device('cpu')"
   ]
  },
  {
   "cell_type": "code",
   "execution_count": 9,
   "metadata": {
    "id": "jL_VAiWK3HCO"
   },
   "outputs": [],
   "source": [
    "CFG = {\n",
    "    'WIDTH':48,\n",
    "    'HEIGHT':72,\n",
    "    'EPOCHS':10,\n",
    "    'LEARNING_RATE':1e-3,\n",
    "    'BATCH_SIZE':64,\n",
    "    'SEED':41\n",
    "}"
   ]
  },
  {
   "cell_type": "code",
   "execution_count": 10,
   "metadata": {
    "id": "h59C2_5D57JI"
   },
   "outputs": [],
   "source": [
    "def seed_everything(seed):\n",
    "    random.seed(seed)\n",
    "    os.environ['PYTHONHASHSEED'] = str(seed)\n",
    "    np.random.seed(seed)\n",
    "    torch.manual_seed(seed)\n",
    "    torch.cuda.manual_seed(seed)\n",
    "    torch.backends.cudnn.deterministic = True\n",
    "    torch.backends.cudnn.benchmark = True\n",
    "\n",
    "seed_everything(CFG['SEED']) # Seed 고정"
   ]
  },
  {
   "cell_type": "markdown",
   "metadata": {
    "id": "2s25sHC0Bdp7"
   },
   "source": [
    "# depth 이미지 1개 당 2개의 sem이 매핑되므로 depth를 두번 더함"
   ]
  },
  {
   "cell_type": "code",
   "execution_count": 11,
   "metadata": {
    "id": "ofC86GG857PJ"
   },
   "outputs": [],
   "source": [
    "simulation_sem_paths = sorted(glob.glob('./simulation_data/SEM/*/*/*.png'))\n",
    "simulation_depth_paths = sorted(glob.glob('./simulation_data/Depth/*/*/*.png')+glob.glob('./simulation_data/Depth/*/*/*.png'))"
   ]
  },
  {
   "cell_type": "code",
   "execution_count": 12,
   "metadata": {
    "id": "mgN522Ml57WU"
   },
   "outputs": [],
   "source": [
    "data_len = len(simulation_sem_paths) # == len(simulation_depth_paths)\n",
    "depth_len = len(simulation_depth_paths)"
   ]
  },
  {
   "cell_type": "code",
   "execution_count": 13,
   "metadata": {
    "colab": {
     "base_uri": "https://localhost:8080/"
    },
    "id": "NzWrOZxH6BOV",
    "outputId": "768edd62-a64e-4a5b-d33c-a6d5f1c269ec"
   },
   "outputs": [
    {
     "name": "stdout",
     "output_type": "stream",
     "text": [
      "173304\n",
      "173304\n",
      "['./simulation_data/SEM/Case_1/80/20201001_202940_NE142400C_RAE01_1_S01_M0005-01MS_3_itr0.png', './simulation_data/SEM/Case_1/80/20201001_202940_NE142400C_RAE01_1_S01_M0005-01MS_3_itr1.png']\n",
      "['./simulation_data/Depth/Case_1/80/20201001_202940_NE142400C_RAE01_1_S01_M0005-01MS_3.png', './simulation_data/Depth/Case_1/80/20201001_202940_NE142400C_RAE01_1_S01_M0005-01MS_3.png']\n"
     ]
    }
   ],
   "source": [
    "print(data_len)\n",
    "print(depth_len)\n",
    "print(simulation_sem_paths[0:2])\n",
    "print(simulation_depth_paths[0:2])"
   ]
  },
  {
   "cell_type": "code",
   "execution_count": 14,
   "metadata": {
    "colab": {
     "base_uri": "https://localhost:8080/",
     "height": 451
    },
    "id": "S8jLPye86BUq",
    "outputId": "733434e5-4c09-421d-9c52-f5ef240e5817"
   },
   "outputs": [
    {
     "data": {
      "image/png": "[encoded data removed]",
      "text/plain": [
       "<Figure size 640x480 with 1 Axes>"
      ]
     },
     "metadata": {},
     "output_type": "display_data"
    },
    {
     "name": "stdout",
     "output_type": "stream",
     "text": [
      "(72, 48, 3)\n"
     ]
    }
   ],
   "source": [
    "import matplotlib.pyplot as plt\n",
    "import cv2\n",
    "\n",
    "# 이미지 불러오기\n",
    "image = cv2.imread(simulation_depth_paths[0])\n",
    "\n",
    "# OpenCV는 BGR 채널 순서를 사용하지만, matplotlib은 RGB를 사용하므로 변환해야 합니다.\n",
    "image_rgb = cv2.cvtColor(image, cv2.COLOR_BGR2RGB)\n",
    "\n",
    "# 이미지 표시\n",
    "plt.imshow(image_rgb)\n",
    "plt.show()\n",
    "print(image_rgb.shape)"
   ]
  },
  {
   "cell_type": "code",
   "execution_count": 15,
   "metadata": {
    "id": "D26mAF_V6Eu0"
   },
   "outputs": [],
   "source": [
    "train_sem_paths = simulation_sem_paths[:int(data_len*0.8)]\n",
    "train_depth_paths = simulation_depth_paths[:int(data_len*0.8)]\n",
    "\n",
    "val_sem_paths = simulation_sem_paths[int(data_len*0.8):]\n",
    "val_depth_paths = simulation_depth_paths[int(data_len*0.8):]"
   ]
  },
  {
   "cell_type": "code",
   "execution_count": 16,
   "metadata": {
    "colab": {
     "base_uri": "https://localhost:8080/"
    },
    "id": "QIwDyeTd_F6q",
    "outputId": "2f921fbe-1e4a-44a1-a127-5c37c155680b"
   },
   "outputs": [
    {
     "name": "stdout",
     "output_type": "stream",
     "text": [
      "train, val 각각 개수 출력\n",
      "train_sem_paths:  138643\n",
      "train_depth_paths:  138643\n",
      "val_sem_paths:  34661\n",
      "val_depth_pathㅠs:  34661\n"
     ]
    }
   ],
   "source": [
    "print('train, val 각각 개수 출력')\n",
    "print('train_sem_paths: ', len(train_sem_paths))\n",
    "print('train_depth_paths: ', len(train_depth_paths))\n",
    "print('val_sem_paths: ', len(val_sem_paths))\n",
    "print('val_depth_pathㅠs: ', len(val_depth_paths))"
   ]
  },
  {
   "cell_type": "code",
   "execution_count": 17,
   "metadata": {
    "id": "ndxF1uxFKA6f"
   },
   "outputs": [],
   "source": [
    "import cv2\n",
    "import numpy as np\n",
    "\n",
    "class CustomDataset(Dataset):\n",
    "    def __init__(self, sem_path_list, depth_path_list):\n",
    "        self.sem_path_list = sem_path_list\n",
    "        self.depth_path_list = depth_path_list\n",
    "\n",
    "    def __getitem__(self, index):\n",
    "        # semantic image\n",
    "        sem_path = self.sem_path_list[index]\n",
    "        sem_img = cv2.imread(sem_path)\n",
    "        sem_img = sem_img.transpose(2, 0, 1)  # (H, W, C) to (C, H, W)\n",
    "        sem_img = sem_img / 255.0\n",
    "\n",
    "        # depth image\n",
    "        if self.depth_path_list is not None:\n",
    "            depth_path = self.depth_path_list[index]\n",
    "            depth_img = cv2.imread(depth_path)\n",
    "            depth_img = depth_img.transpose(2, 0, 1)  # (H, W, C) to (C, H, W)\n",
    "            depth_img = depth_img / 255.0\n",
    "\n",
    "            # Resize to (256, 256)\n",
    "            sem_img = resize_image(sem_img, 256, 256)\n",
    "            depth_img = resize_image(depth_img, 256, 256)\n",
    "\n",
    "            return {\"A\": torch.Tensor(depth_img), \"B\": torch.Tensor(sem_img)}\n",
    "        else:\n",
    "            img_name = sem_path.split('/')[-1]\n",
    "\n",
    "            # Resize to (256, 256)\n",
    "            sem_img = resize_image(sem_img, 256, 256)\n",
    "\n",
    "            return {\"A\": torch.Tensor(sem_img), \"B\": img_name}\n",
    "\n",
    "    def __len__(self):\n",
    "        return len(self.sem_path_list)\n",
    "\n",
    "def resize_image(image, target_height, target_width):\n",
    "    _, height, width = image.shape\n",
    "\n",
    "    # Calculate scale factors for resizing\n",
    "    scale_height = target_height / height\n",
    "    scale_width = target_width / width\n",
    "\n",
    "    # Resize the image using interpolation\n",
    "    resized_image = cv2.resize(image.transpose(1, 2, 0), (target_width, target_height), interpolation=cv2.INTER_LINEAR)\n",
    "\n",
    "    return resized_image.transpose(2, 0, 1)\n"
   ]
  },
  {
   "cell_type": "code",
   "execution_count": 18,
   "metadata": {
    "id": "kSDz5fisKBFh"
   },
   "outputs": [],
   "source": [
    "train_dataset = CustomDataset(train_sem_paths, train_depth_paths)\n",
    "train_loader = DataLoader(train_dataset, batch_size = CFG['BATCH_SIZE'], shuffle=True, num_workers=6)\n",
    "\n",
    "val_dataset = CustomDataset(val_sem_paths, val_depth_paths)\n",
    "val_loader = DataLoader(val_dataset, batch_size=CFG['BATCH_SIZE'], shuffle=False, num_workers=6)"
   ]
  },
  {
   "cell_type": "code",
   "execution_count": 19,
   "metadata": {
    "colab": {
     "base_uri": "https://localhost:8080/"
    },
    "id": "0ER0XSLjKBVP",
    "outputId": "794ea705-daaa-4ae5-9e4d-6eba82c6c218"
   },
   "outputs": [
    {
     "data": {
      "text/plain": [
       "(138643, 34661)"
      ]
     },
     "execution_count": 19,
     "metadata": {},
     "output_type": "execute_result"
    }
   ],
   "source": [
    "len(train_dataset), len(val_dataset)"
   ]
  },
  {
   "cell_type": "code",
   "execution_count": 20,
   "metadata": {
    "colab": {
     "base_uri": "https://localhost:8080/"
    },
    "id": "1_yRLiibKZBy",
    "outputId": "8cc539fc-4c69-4164-c682-198c93cb29e5"
   },
   "outputs": [
    {
     "name": "stdout",
     "output_type": "stream",
     "text": [
      "torch.Size([3, 256, 256])\n",
      "torch.Size([3, 256, 256])\n"
     ]
    }
   ],
   "source": [
    "print(train_dataset[0][\"A\"].shape)\n",
    "print(train_dataset[0][\"B\"].shape)\n",
    "#딕셔너리 형태로 반환되었음"
   ]
  },
  {
   "cell_type": "code",
   "execution_count": 21,
   "metadata": {
    "colab": {
     "base_uri": "https://localhost:8080/",
     "height": 435
    },
    "id": "avxN3GRp_GIk",
    "outputId": "590eeeae-7b8d-43a5-cb88-90714521ab0e"
   },
   "outputs": [
    {
     "data": {
      "image/png": "[encoded data removed]",
      "text/plain": [
       "<Figure size 640x480 with 1 Axes>"
      ]
     },
     "metadata": {},
     "output_type": "display_data"
    }
   ],
   "source": [
    "import matplotlib.pyplot as plt\n",
    "\n",
    "# 코드 수정 후 실행\n",
    "plt.imshow(train_dataset[0][\"A\"].permute(1, 2, 0))\n",
    "plt.show()\n"
   ]
  },
  {
   "cell_type": "code",
   "execution_count": 22,
   "metadata": {
    "id": "5st5v0BsT35O"
   },
   "outputs": [],
   "source": [
    "# U-Net 아키텍처의 다운 샘플링(Down Sampling) 모듈\n",
    "class UNetDown(nn.Module):\n",
    "    def __init__(self, in_channels, out_channels, normalize=True, dropout=0.0):\n",
    "        super(UNetDown, self).__init__()\n",
    "        # 너비와 높이가 2배씩 감소\n",
    "        layers = [nn.Conv2d(in_channels, out_channels, kernel_size=4, stride=2, padding=1, bias=False)]\n",
    "        if normalize:\n",
    "            layers.append(nn.InstanceNorm2d(out_channels))\n",
    "        layers.append(nn.LeakyReLU(0.2))\n",
    "        if dropout:\n",
    "            layers.append(nn.Dropout(dropout))\n",
    "        self.model = nn.Sequential(*layers)\n",
    "\n",
    "    def forward(self, x):\n",
    "        return self.model(x)\n",
    "\n",
    "\n",
    "# U-Net 아키텍처의 업 샘플링(Up Sampling) 모듈: Skip Connection 사용\n",
    "class UNetUp(nn.Module):\n",
    "    def __init__(self, in_channels, out_channels, dropout=0.0):\n",
    "        super(UNetUp, self).__init__()\n",
    "        # 너비와 높이가 2배씩 증가\n",
    "        layers = [nn.ConvTranspose2d(in_channels, out_channels, kernel_size=4, stride=2, padding=1, bias=False)]\n",
    "        layers.append(nn.InstanceNorm2d(out_channels))\n",
    "        layers.append(nn.ReLU(inplace=True))\n",
    "        if dropout:\n",
    "            layers.append(nn.Dropout(dropout))\n",
    "        self.model = nn.Sequential(*layers)\n",
    "\n",
    "    def forward(self, x, skip_input):\n",
    "        x = self.model(x)\n",
    "        x = torch.cat((x, skip_input), 1) # 채널 레벨에서 합치기(concatenation)\n",
    "\n",
    "        return x\n",
    "\n",
    "\n",
    "# U-Net 생성자(Generator) 아키텍처\n",
    "class GeneratorUNet(nn.Module):\n",
    "    def __init__(self, in_channels=3, out_channels=3):\n",
    "        super(GeneratorUNet, self).__init__()\n",
    "\n",
    "        self.down1 = UNetDown(in_channels, 64, normalize=False) # 출력: [64 X 128 X 128]\n",
    "        self.down2 = UNetDown(64, 128) # 출력: [128 X 64 X 64]\n",
    "        self.down3 = UNetDown(128, 256) # 출력: [256 X 32 X 32]\n",
    "        self.down4 = UNetDown(256, 512, dropout=0.5) # 출력: [512 X 16 X 16]\n",
    "        self.down5 = UNetDown(512, 512, dropout=0.5) # 출력: [512 X 8 X 8]\n",
    "        self.down6 = UNetDown(512, 512, dropout=0.5) # 출력: [512 X 4 X 4]\n",
    "        self.down7 = UNetDown(512, 512, dropout=0.5) # 출력: [512 X 2 X 2]\n",
    "        self.down8 = UNetDown(512, 512, normalize=False, dropout=0.5) # 출력: [512 X 1 X 1]\n",
    "\n",
    "        # Skip Connection 사용(출력 채널의 크기 X 2 == 다음 입력 채널의 크기)\n",
    "        self.up1 = UNetUp(512, 512, dropout=0.5) # 출력: [1024 X 2 X 2]\n",
    "        self.up2 = UNetUp(1024, 512, dropout=0.5) # 출력: [1024 X 4 X 4]\n",
    "        self.up3 = UNetUp(1024, 512, dropout=0.5) # 출력: [1024 X 8 X 8]\n",
    "        self.up4 = UNetUp(1024, 512, dropout=0.5) # 출력: [1024 X 16 X 16]\n",
    "        self.up5 = UNetUp(1024, 256) # 출력: [512 X 32 X 32]\n",
    "        self.up6 = UNetUp(512, 128) # 출력: [256 X 64 X 64]\n",
    "        self.up7 = UNetUp(256, 64) # 출력: [128 X 128 X 128]\n",
    "\n",
    "        self.final = nn.Sequential(\n",
    "            nn.Upsample(scale_factor=2), # 출력: [128 X 256 X 256]\n",
    "            nn.ZeroPad2d((1, 0, 1, 0)),\n",
    "            nn.Conv2d(128, out_channels, kernel_size=4, padding=1), # 출력: [3 X 256 X 256]\n",
    "            nn.Tanh(),\n",
    "        )\n",
    "\n",
    "    def forward(self, x):\n",
    "        # 인코더부터 디코더까지 순전파하는 U-Net 생성자(Generator)\n",
    "        d1 = self.down1(x)\n",
    "        d2 = self.down2(d1)\n",
    "        d3 = self.down3(d2)\n",
    "        d4 = self.down4(d3)\n",
    "        d5 = self.down5(d4)\n",
    "        d6 = self.down6(d5)\n",
    "        d7 = self.down7(d6)\n",
    "        d8 = self.down8(d7)\n",
    "        u1 = self.up1(d8, d7)\n",
    "        u2 = self.up2(u1, d6)\n",
    "        u3 = self.up3(u2, d5)\n",
    "        u4 = self.up4(u3, d4)\n",
    "        u5 = self.up5(u4, d3)\n",
    "        u6 = self.up6(u5, d2)\n",
    "        u7 = self.up7(u6, d1)\n",
    "\n",
    "        return self.final(u7)\n",
    "\n",
    "\n",
    "# U-Net 판별자(Discriminator) 아키텍처\n",
    "class Discriminator(nn.Module):\n",
    "    def __init__(self, in_channels=3):\n",
    "        super(Discriminator, self).__init__()\n",
    "\n",
    "        def discriminator_block(in_channels, out_channels, normalization=True):\n",
    "            # 너비와 높이가 2배씩 감소\n",
    "            layers = [nn.Conv2d(in_channels, out_channels, kernel_size=4, stride=2, padding=1)]\n",
    "            if normalization:\n",
    "                layers.append(nn.InstanceNorm2d(out_channels))\n",
    "            layers.append(nn.LeakyReLU(0.2, inplace=True))\n",
    "            return layers\n",
    "\n",
    "        self.model = nn.Sequential(\n",
    "            # 두 개의 이미지(실제/변환된 이미지, 조건 이미지)를 입력 받으므로 입력 채널의 크기는 2배\n",
    "            *discriminator_block(in_channels * 2, 64, normalization=False), # 출력: [64 X 128 X 128]\n",
    "            *discriminator_block(64, 128), # 출력: [128 X 64 X 64]\n",
    "            *discriminator_block(128, 256), # 출력: [256 X 32 X 32]\n",
    "            *discriminator_block(256, 512), # 출력: [512 X 16 X 16]\n",
    "            nn.ZeroPad2d((1, 0, 1, 0)),\n",
    "            nn.Conv2d(512, 1, kernel_size=4, padding=1, bias=False) # 출력: [1 X 16 X 16]\n",
    "        )\n",
    "\n",
    "    # img_A: 실제/변환된 이미지, img_B: 조건(condition)\n",
    "    def forward(self, img_A, img_B):\n",
    "        # 이미지 두 개를 채널 레벨에서 연결하여(concatenate) 입력 데이터 생성\n",
    "        img_input = torch.cat((img_A, img_B), 1)\n",
    "        return self.model(img_input)\n",
    "        "
   ]
  },
  {
   "cell_type": "code",
   "execution_count": 23,
   "metadata": {
    "id": "a2ma9Ae3fB8u"
   },
   "outputs": [],
   "source": [
    "def weights_init_normal(m):\n",
    "    classname = m.__class__.__name__\n",
    "    if classname.find(\"Conv\") != -1:\n",
    "        torch.nn.init.normal_(m.weight.data, 0.0, 0.02)\n",
    "    elif classname.find(\"BatchNorm2d\") != -1:\n",
    "        torch.nn.init.normal_(m.weight.data, 1.0, 0.02)\n",
    "        torch.nn.init.constant_(m.bias.data, 0.0)\n",
    "\n",
    "\n",
    "# 생성자(generator)와 판별자(discriminator) 초기화\n",
    "generator = GeneratorUNet()\n",
    "discriminator = Discriminator()\n",
    "\n",
    "generator.cuda()\n",
    "discriminator.cuda()\n",
    "\n",
    "# 가중치(weights) 초기화\n",
    "generator.apply(weights_init_normal)\n",
    "discriminator.apply(weights_init_normal)\n",
    "\n",
    "# 손실 함수(loss function)\n",
    "criterion_GAN = torch.nn.MSELoss()\n",
    "criterion_pixelwise = torch.nn.L1Loss()\n",
    "\n",
    "criterion_GAN.cuda()\n",
    "criterion_pixelwise.cuda()\n",
    "\n",
    "# 학습률(learning rate) 설정\n",
    "lr = 0.0002\n",
    "\n",
    "# 생성자와 판별자를 위한 최적화 함수\n",
    "optimizer_G = torch.optim.Adam(generator.parameters(), lr=lr, betas=(0.5, 0.999))\n",
    "optimizer_D = torch.optim.Adam(discriminator.parameters(), lr=lr, betas=(0.5, 0.999))"
   ]
  },
  {
   "cell_type": "code",
   "execution_count": 24,
   "metadata": {
    "colab": {
     "base_uri": "https://localhost:8080/"
    },
    "id": "15AgkyLT8Dbi",
    "outputId": "af6da10f-8052-4b96-dfb8-3562367b6bcb"
   },
   "outputs": [
    {
     "name": "stdout",
     "output_type": "stream",
     "text": [
      "----------------------------------------------------------------\n",
      "        Layer (type)               Output Shape         Param #\n",
      "================================================================\n",
      "            Conv2d-1         [-1, 64, 128, 128]           3,072\n",
      "         LeakyReLU-2         [-1, 64, 128, 128]               0\n",
      "          UNetDown-3         [-1, 64, 128, 128]               0\n",
      "            Conv2d-4          [-1, 128, 64, 64]         131,072\n",
      "    InstanceNorm2d-5          [-1, 128, 64, 64]               0\n",
      "         LeakyReLU-6          [-1, 128, 64, 64]               0\n",
      "          UNetDown-7          [-1, 128, 64, 64]               0\n",
      "            Conv2d-8          [-1, 256, 32, 32]         524,288\n",
      "    InstanceNorm2d-9          [-1, 256, 32, 32]               0\n",
      "        LeakyReLU-10          [-1, 256, 32, 32]               0\n",
      "         UNetDown-11          [-1, 256, 32, 32]               0\n",
      "           Conv2d-12          [-1, 512, 16, 16]       2,097,152\n",
      "   InstanceNorm2d-13          [-1, 512, 16, 16]               0\n",
      "        LeakyReLU-14          [-1, 512, 16, 16]               0\n",
      "          Dropout-15          [-1, 512, 16, 16]               0\n",
      "         UNetDown-16          [-1, 512, 16, 16]               0\n",
      "           Conv2d-17            [-1, 512, 8, 8]       4,194,304\n",
      "   InstanceNorm2d-18            [-1, 512, 8, 8]               0\n",
      "        LeakyReLU-19            [-1, 512, 8, 8]               0\n",
      "          Dropout-20            [-1, 512, 8, 8]               0\n",
      "         UNetDown-21            [-1, 512, 8, 8]               0\n",
      "           Conv2d-22            [-1, 512, 4, 4]       4,194,304\n",
      "   InstanceNorm2d-23            [-1, 512, 4, 4]               0\n",
      "        LeakyReLU-24            [-1, 512, 4, 4]               0\n",
      "          Dropout-25            [-1, 512, 4, 4]               0\n",
      "         UNetDown-26            [-1, 512, 4, 4]               0\n",
      "           Conv2d-27            [-1, 512, 2, 2]       4,194,304\n",
      "   InstanceNorm2d-28            [-1, 512, 2, 2]               0\n",
      "        LeakyReLU-29            [-1, 512, 2, 2]               0\n",
      "          Dropout-30            [-1, 512, 2, 2]               0\n",
      "         UNetDown-31            [-1, 512, 2, 2]               0\n",
      "           Conv2d-32            [-1, 512, 1, 1]       4,194,304\n",
      "        LeakyReLU-33            [-1, 512, 1, 1]               0\n",
      "          Dropout-34            [-1, 512, 1, 1]               0\n",
      "         UNetDown-35            [-1, 512, 1, 1]               0\n",
      "  ConvTranspose2d-36            [-1, 512, 2, 2]       4,194,304\n",
      "   InstanceNorm2d-37            [-1, 512, 2, 2]               0\n",
      "             ReLU-38            [-1, 512, 2, 2]               0\n",
      "          Dropout-39            [-1, 512, 2, 2]               0\n",
      "           UNetUp-40           [-1, 1024, 2, 2]               0\n",
      "  ConvTranspose2d-41            [-1, 512, 4, 4]       8,388,608\n",
      "   InstanceNorm2d-42            [-1, 512, 4, 4]               0\n",
      "             ReLU-43            [-1, 512, 4, 4]               0\n",
      "          Dropout-44            [-1, 512, 4, 4]               0\n",
      "           UNetUp-45           [-1, 1024, 4, 4]               0\n",
      "  ConvTranspose2d-46            [-1, 512, 8, 8]       8,388,608\n",
      "   InstanceNorm2d-47            [-1, 512, 8, 8]               0\n",
      "             ReLU-48            [-1, 512, 8, 8]               0\n",
      "          Dropout-49            [-1, 512, 8, 8]               0\n",
      "           UNetUp-50           [-1, 1024, 8, 8]               0\n",
      "  ConvTranspose2d-51          [-1, 512, 16, 16]       8,388,608\n",
      "   InstanceNorm2d-52          [-1, 512, 16, 16]               0\n",
      "             ReLU-53          [-1, 512, 16, 16]               0\n",
      "          Dropout-54          [-1, 512, 16, 16]               0\n",
      "           UNetUp-55         [-1, 1024, 16, 16]               0\n",
      "  ConvTranspose2d-56          [-1, 256, 32, 32]       4,194,304\n",
      "   InstanceNorm2d-57          [-1, 256, 32, 32]               0\n",
      "             ReLU-58          [-1, 256, 32, 32]               0\n",
      "           UNetUp-59          [-1, 512, 32, 32]               0\n",
      "  ConvTranspose2d-60          [-1, 128, 64, 64]       1,048,576\n",
      "   InstanceNorm2d-61          [-1, 128, 64, 64]               0\n",
      "             ReLU-62          [-1, 128, 64, 64]               0\n",
      "           UNetUp-63          [-1, 256, 64, 64]               0\n",
      "  ConvTranspose2d-64         [-1, 64, 128, 128]         262,144\n",
      "   InstanceNorm2d-65         [-1, 64, 128, 128]               0\n",
      "             ReLU-66         [-1, 64, 128, 128]               0\n",
      "           UNetUp-67        [-1, 128, 128, 128]               0\n",
      "         Upsample-68        [-1, 128, 256, 256]               0\n",
      "        ZeroPad2d-69        [-1, 128, 257, 257]               0\n",
      "           Conv2d-70          [-1, 3, 256, 256]           6,147\n",
      "             Tanh-71          [-1, 3, 256, 256]               0\n",
      "================================================================\n",
      "Total params: 54,404,099\n",
      "Trainable params: 54,404,099\n",
      "Non-trainable params: 0\n",
      "----------------------------------------------------------------\n",
      "Input size (MB): 0.75\n",
      "Forward/backward pass size (MB): 264.13\n",
      "Params size (MB): 207.54\n",
      "Estimated Total Size (MB): 472.41\n",
      "----------------------------------------------------------------\n",
      "None\n"
     ]
    }
   ],
   "source": [
    "from torchsummary import summary\n",
    "\n",
    "summary_generator = str(summary(generator, (3 ,256,256), device='cuda'))\n",
    "\n",
    "print(summary_generator)\n"
   ]
  },
  {
   "cell_type": "code",
   "execution_count": 25,
   "metadata": {
    "colab": {
     "base_uri": "https://localhost:8080/",
     "height": 551
    },
    "id": "hbSgs3upfDQP",
    "outputId": "d4708047-6bc3-48d6-a5bb-4cd65da5b257"
   },
   "outputs": [
    {
     "ename": "OutOfMemoryError",
     "evalue": "ignored",
     "output_type": "error",
     "traceback": [
      "\u001b[0;31m---------------------------------------------------------------------------\u001b[0m",
      "\u001b[0;31mOutOfMemoryError\u001b[0m                          Traceback (most recent call last)",
      "\u001b[0;32m<ipython-input-25-0b1dd3adc281>\u001b[0m in \u001b[0;36m<cell line: 11>\u001b[0;34m()\u001b[0m\n\u001b[1;32m     55\u001b[0m             \u001b[0mreal_A\u001b[0m \u001b[0;34m=\u001b[0m \u001b[0mimgs\u001b[0m\u001b[0;34m[\u001b[0m\u001b[0;34m\"B\"\u001b[0m\u001b[0;34m]\u001b[0m\u001b[0;34m.\u001b[0m\u001b[0mcuda\u001b[0m\u001b[0;34m(\u001b[0m\u001b[0;34m)\u001b[0m\u001b[0;34m\u001b[0m\u001b[0;34m\u001b[0m\u001b[0m\n\u001b[1;32m     56\u001b[0m             \u001b[0mreal_B\u001b[0m \u001b[0;34m=\u001b[0m \u001b[0mimgs\u001b[0m\u001b[0;34m[\u001b[0m\u001b[0;34m\"A\"\u001b[0m\u001b[0;34m]\u001b[0m\u001b[0;34m.\u001b[0m\u001b[0mcuda\u001b[0m\u001b[0;34m(\u001b[0m\u001b[0;34m)\u001b[0m\u001b[0;34m\u001b[0m\u001b[0;34m\u001b[0m\u001b[0m\n\u001b[0;32m---> 57\u001b[0;31m             \u001b[0mfake_B\u001b[0m \u001b[0;34m=\u001b[0m \u001b[0mgenerator\u001b[0m\u001b[0;34m(\u001b[0m\u001b[0mreal_A\u001b[0m\u001b[0;34m)\u001b[0m\u001b[0;34m\u001b[0m\u001b[0;34m\u001b[0m\u001b[0m\n\u001b[0m\u001b[1;32m     58\u001b[0m             \u001b[0;31m# real_A: 조건(condition), fake_B: 변환된 이미지(translated image), real_B: 정답 이미지\u001b[0m\u001b[0;34m\u001b[0m\u001b[0;34m\u001b[0m\u001b[0m\n\u001b[1;32m     59\u001b[0m             \u001b[0mimg_sample\u001b[0m \u001b[0;34m=\u001b[0m \u001b[0mtorch\u001b[0m\u001b[0;34m.\u001b[0m\u001b[0mcat\u001b[0m\u001b[0;34m(\u001b[0m\u001b[0;34m(\u001b[0m\u001b[0mreal_A\u001b[0m\u001b[0;34m.\u001b[0m\u001b[0mdata\u001b[0m\u001b[0;34m,\u001b[0m \u001b[0mfake_B\u001b[0m\u001b[0;34m.\u001b[0m\u001b[0mdata\u001b[0m\u001b[0;34m,\u001b[0m \u001b[0mreal_B\u001b[0m\u001b[0;34m.\u001b[0m\u001b[0mdata\u001b[0m\u001b[0;34m)\u001b[0m\u001b[0;34m,\u001b[0m \u001b[0;34m-\u001b[0m\u001b[0;36m2\u001b[0m\u001b[0;34m)\u001b[0m \u001b[0;31m# 높이(height)를 기준으로 이미지를 연결하기\u001b[0m\u001b[0;34m\u001b[0m\u001b[0;34m\u001b[0m\u001b[0m\n",
      "\u001b[0;32m/usr/local/lib/python3.10/dist-packages/torch/nn/modules/module.py\u001b[0m in \u001b[0;36m_call_impl\u001b[0;34m(self, *args, **kwargs)\u001b[0m\n\u001b[1;32m   1499\u001b[0m                 \u001b[0;32mor\u001b[0m \u001b[0m_global_backward_pre_hooks\u001b[0m \u001b[0;32mor\u001b[0m \u001b[0m_global_backward_hooks\u001b[0m\u001b[0;34m\u001b[0m\u001b[0;34m\u001b[0m\u001b[0m\n\u001b[1;32m   1500\u001b[0m                 or _global_forward_hooks or _global_forward_pre_hooks):\n\u001b[0;32m-> 1501\u001b[0;31m             \u001b[0;32mreturn\u001b[0m \u001b[0mforward_call\u001b[0m\u001b[0;34m(\u001b[0m\u001b[0;34m*\u001b[0m\u001b[0margs\u001b[0m\u001b[0;34m,\u001b[0m \u001b[0;34m**\u001b[0m\u001b[0mkwargs\u001b[0m\u001b[0;34m)\u001b[0m\u001b[0;34m\u001b[0m\u001b[0;34m\u001b[0m\u001b[0m\n\u001b[0m\u001b[1;32m   1502\u001b[0m         \u001b[0;31m# Do not call functions when jit is used\u001b[0m\u001b[0;34m\u001b[0m\u001b[0;34m\u001b[0m\u001b[0m\n\u001b[1;32m   1503\u001b[0m         \u001b[0mfull_backward_hooks\u001b[0m\u001b[0;34m,\u001b[0m \u001b[0mnon_full_backward_hooks\u001b[0m \u001b[0;34m=\u001b[0m \u001b[0;34m[\u001b[0m\u001b[0;34m]\u001b[0m\u001b[0;34m,\u001b[0m \u001b[0;34m[\u001b[0m\u001b[0;34m]\u001b[0m\u001b[0;34m\u001b[0m\u001b[0;34m\u001b[0m\u001b[0m\n",
      "\u001b[0;32m<ipython-input-22-423accf9938b>\u001b[0m in \u001b[0;36mforward\u001b[0;34m(self, x)\u001b[0m\n\u001b[1;32m     83\u001b[0m         \u001b[0mu7\u001b[0m \u001b[0;34m=\u001b[0m \u001b[0mself\u001b[0m\u001b[0;34m.\u001b[0m\u001b[0mup7\u001b[0m\u001b[0;34m(\u001b[0m\u001b[0mu6\u001b[0m\u001b[0;34m,\u001b[0m \u001b[0md1\u001b[0m\u001b[0;34m)\u001b[0m\u001b[0;34m\u001b[0m\u001b[0;34m\u001b[0m\u001b[0m\n\u001b[1;32m     84\u001b[0m \u001b[0;34m\u001b[0m\u001b[0m\n\u001b[0;32m---> 85\u001b[0;31m         \u001b[0;32mreturn\u001b[0m \u001b[0mself\u001b[0m\u001b[0;34m.\u001b[0m\u001b[0mfinal\u001b[0m\u001b[0;34m(\u001b[0m\u001b[0mu7\u001b[0m\u001b[0;34m)\u001b[0m\u001b[0;34m\u001b[0m\u001b[0;34m\u001b[0m\u001b[0m\n\u001b[0m\u001b[1;32m     86\u001b[0m \u001b[0;34m\u001b[0m\u001b[0m\n\u001b[1;32m     87\u001b[0m \u001b[0;34m\u001b[0m\u001b[0m\n",
      "\u001b[0;32m/usr/local/lib/python3.10/dist-packages/torch/nn/modules/module.py\u001b[0m in \u001b[0;36m_call_impl\u001b[0;34m(self, *args, **kwargs)\u001b[0m\n\u001b[1;32m   1499\u001b[0m                 \u001b[0;32mor\u001b[0m \u001b[0m_global_backward_pre_hooks\u001b[0m \u001b[0;32mor\u001b[0m \u001b[0m_global_backward_hooks\u001b[0m\u001b[0;34m\u001b[0m\u001b[0;34m\u001b[0m\u001b[0m\n\u001b[1;32m   1500\u001b[0m                 or _global_forward_hooks or _global_forward_pre_hooks):\n\u001b[0;32m-> 1501\u001b[0;31m             \u001b[0;32mreturn\u001b[0m \u001b[0mforward_call\u001b[0m\u001b[0;34m(\u001b[0m\u001b[0;34m*\u001b[0m\u001b[0margs\u001b[0m\u001b[0;34m,\u001b[0m \u001b[0;34m**\u001b[0m\u001b[0mkwargs\u001b[0m\u001b[0;34m)\u001b[0m\u001b[0;34m\u001b[0m\u001b[0;34m\u001b[0m\u001b[0m\n\u001b[0m\u001b[1;32m   1502\u001b[0m         \u001b[0;31m# Do not call functions when jit is used\u001b[0m\u001b[0;34m\u001b[0m\u001b[0;34m\u001b[0m\u001b[0m\n\u001b[1;32m   1503\u001b[0m         \u001b[0mfull_backward_hooks\u001b[0m\u001b[0;34m,\u001b[0m \u001b[0mnon_full_backward_hooks\u001b[0m \u001b[0;34m=\u001b[0m \u001b[0;34m[\u001b[0m\u001b[0;34m]\u001b[0m\u001b[0;34m,\u001b[0m \u001b[0;34m[\u001b[0m\u001b[0;34m]\u001b[0m\u001b[0;34m\u001b[0m\u001b[0;34m\u001b[0m\u001b[0m\n",
      "\u001b[0;32m/usr/local/lib/python3.10/dist-packages/torch/nn/modules/container.py\u001b[0m in \u001b[0;36mforward\u001b[0;34m(self, input)\u001b[0m\n\u001b[1;32m    215\u001b[0m     \u001b[0;32mdef\u001b[0m \u001b[0mforward\u001b[0m\u001b[0;34m(\u001b[0m\u001b[0mself\u001b[0m\u001b[0;34m,\u001b[0m \u001b[0minput\u001b[0m\u001b[0;34m)\u001b[0m\u001b[0;34m:\u001b[0m\u001b[0;34m\u001b[0m\u001b[0;34m\u001b[0m\u001b[0m\n\u001b[1;32m    216\u001b[0m         \u001b[0;32mfor\u001b[0m \u001b[0mmodule\u001b[0m \u001b[0;32min\u001b[0m \u001b[0mself\u001b[0m\u001b[0;34m:\u001b[0m\u001b[0;34m\u001b[0m\u001b[0;34m\u001b[0m\u001b[0m\n\u001b[0;32m--> 217\u001b[0;31m             \u001b[0minput\u001b[0m \u001b[0;34m=\u001b[0m \u001b[0mmodule\u001b[0m\u001b[0;34m(\u001b[0m\u001b[0minput\u001b[0m\u001b[0;34m)\u001b[0m\u001b[0;34m\u001b[0m\u001b[0;34m\u001b[0m\u001b[0m\n\u001b[0m\u001b[1;32m    218\u001b[0m         \u001b[0;32mreturn\u001b[0m \u001b[0minput\u001b[0m\u001b[0;34m\u001b[0m\u001b[0;34m\u001b[0m\u001b[0m\n\u001b[1;32m    219\u001b[0m \u001b[0;34m\u001b[0m\u001b[0m\n",
      "\u001b[0;32m/usr/local/lib/python3.10/dist-packages/torch/nn/modules/module.py\u001b[0m in \u001b[0;36m_call_impl\u001b[0;34m(self, *args, **kwargs)\u001b[0m\n\u001b[1;32m   1499\u001b[0m                 \u001b[0;32mor\u001b[0m \u001b[0m_global_backward_pre_hooks\u001b[0m \u001b[0;32mor\u001b[0m \u001b[0m_global_backward_hooks\u001b[0m\u001b[0;34m\u001b[0m\u001b[0;34m\u001b[0m\u001b[0m\n\u001b[1;32m   1500\u001b[0m                 or _global_forward_hooks or _global_forward_pre_hooks):\n\u001b[0;32m-> 1501\u001b[0;31m             \u001b[0;32mreturn\u001b[0m \u001b[0mforward_call\u001b[0m\u001b[0;34m(\u001b[0m\u001b[0;34m*\u001b[0m\u001b[0margs\u001b[0m\u001b[0;34m,\u001b[0m \u001b[0;34m**\u001b[0m\u001b[0mkwargs\u001b[0m\u001b[0;34m)\u001b[0m\u001b[0;34m\u001b[0m\u001b[0;34m\u001b[0m\u001b[0m\n\u001b[0m\u001b[1;32m   1502\u001b[0m         \u001b[0;31m# Do not call functions when jit is used\u001b[0m\u001b[0;34m\u001b[0m\u001b[0;34m\u001b[0m\u001b[0m\n\u001b[1;32m   1503\u001b[0m         \u001b[0mfull_backward_hooks\u001b[0m\u001b[0;34m,\u001b[0m \u001b[0mnon_full_backward_hooks\u001b[0m \u001b[0;34m=\u001b[0m \u001b[0;34m[\u001b[0m\u001b[0;34m]\u001b[0m\u001b[0;34m,\u001b[0m \u001b[0;34m[\u001b[0m\u001b[0;34m]\u001b[0m\u001b[0;34m\u001b[0m\u001b[0;34m\u001b[0m\u001b[0m\n",
      "\u001b[0;32m/usr/local/lib/python3.10/dist-packages/torch/nn/modules/padding.py\u001b[0m in \u001b[0;36mforward\u001b[0;34m(self, input)\u001b[0m\n\u001b[1;32m     23\u001b[0m \u001b[0;34m\u001b[0m\u001b[0m\n\u001b[1;32m     24\u001b[0m     \u001b[0;32mdef\u001b[0m \u001b[0mforward\u001b[0m\u001b[0;34m(\u001b[0m\u001b[0mself\u001b[0m\u001b[0;34m,\u001b[0m \u001b[0minput\u001b[0m\u001b[0;34m:\u001b[0m \u001b[0mTensor\u001b[0m\u001b[0;34m)\u001b[0m \u001b[0;34m->\u001b[0m \u001b[0mTensor\u001b[0m\u001b[0;34m:\u001b[0m\u001b[0;34m\u001b[0m\u001b[0;34m\u001b[0m\u001b[0m\n\u001b[0;32m---> 25\u001b[0;31m         \u001b[0;32mreturn\u001b[0m \u001b[0mF\u001b[0m\u001b[0;34m.\u001b[0m\u001b[0mpad\u001b[0m\u001b[0;34m(\u001b[0m\u001b[0minput\u001b[0m\u001b[0;34m,\u001b[0m \u001b[0mself\u001b[0m\u001b[0;34m.\u001b[0m\u001b[0mpadding\u001b[0m\u001b[0;34m,\u001b[0m \u001b[0;34m'constant'\u001b[0m\u001b[0;34m,\u001b[0m \u001b[0mself\u001b[0m\u001b[0;34m.\u001b[0m\u001b[0mvalue\u001b[0m\u001b[0;34m)\u001b[0m\u001b[0;34m\u001b[0m\u001b[0;34m\u001b[0m\u001b[0m\n\u001b[0m\u001b[1;32m     26\u001b[0m \u001b[0;34m\u001b[0m\u001b[0m\n\u001b[1;32m     27\u001b[0m     \u001b[0;32mdef\u001b[0m \u001b[0mextra_repr\u001b[0m\u001b[0;34m(\u001b[0m\u001b[0mself\u001b[0m\u001b[0;34m)\u001b[0m \u001b[0;34m->\u001b[0m \u001b[0mstr\u001b[0m\u001b[0;34m:\u001b[0m\u001b[0;34m\u001b[0m\u001b[0;34m\u001b[0m\u001b[0m\n",
      "\u001b[0;31mOutOfMemoryError\u001b[0m: CUDA out of memory. Tried to allocate 4.03 GiB (GPU 0; 15.77 GiB total capacity; 11.57 GiB already allocated; 3.24 GiB free; 12.15 GiB reserved in total by PyTorch) If reserved memory is >> allocated memory try setting max_split_size_mb to avoid fragmentation.  See documentation for Memory Management and PYTORCH_CUDA_ALLOC_CONF"
     ]
    }
   ],
   "source": [
    "import time\n",
    "\n",
    "n_epochs = 50 # 학습의 횟수(epoch) 설정\n",
    "sample_interval = 1000 # 몇 번의 배치(batch)마다 결과를 출력할 것인지 설정\n",
    "\n",
    "# 변환된 이미지와 정답 이미지 사이의 L1 픽셀 단위(pixel-wise) 손실 가중치(weight) 파라미터\n",
    "lambda_pixel = 100\n",
    "\n",
    "start_time = time.time()\n",
    "\n",
    "for epoch in range(n_epochs):\n",
    "    for i, batch in enumerate(train_loader):\n",
    "        # 모델의 입력(input) 데이터 불러오기\n",
    "        real_A = batch[\"B\"].cuda()\n",
    "        real_B = batch[\"A\"].cuda()\n",
    "\n",
    "        # 진짜(real) 이미지와 가짜(fake) 이미지에 대한 정답 레이블 생성 (너바와 높이를 16씩 나눈 크기)\n",
    "        real = torch.cuda.FloatTensor(real_A.size(0), 1, 16, 16).fill_(1.0) # 진짜(real): 1\n",
    "        fake = torch.cuda.FloatTensor(real_A.size(0), 1, 16, 16).fill_(0.0) # 가짜(fake): 0\n",
    "\n",
    "        \"\"\" 생성자(generator)를 학습. \"\"\"\n",
    "        optimizer_G.zero_grad()\n",
    "\n",
    "        # 이미지 생성\n",
    "        fake_B = generator(real_A)\n",
    "\n",
    "        # 생성자(generator)의 손실(loss) 값 계산\n",
    "        loss_GAN = criterion_GAN(discriminator(fake_B, real_A), real)\n",
    "\n",
    "        # 픽셀 단위(pixel-wise) L1 손실 값 계산\n",
    "        loss_pixel = criterion_pixelwise(fake_B, real_B) \n",
    "\n",
    "        # 최종적인 손실(loss)\n",
    "        loss_G = loss_GAN + lambda_pixel * loss_pixel\n",
    "\n",
    "        # 생성자(generator) 업데이트\n",
    "        loss_G.backward()\n",
    "        optimizer_G.step()\n",
    "\n",
    "        \"\"\" 판별자(discriminator)를 학습. \"\"\"\n",
    "        optimizer_D.zero_grad()\n",
    "\n",
    "        # 판별자(discriminator)의 손실(loss) 값 계산\n",
    "        loss_real = criterion_GAN(discriminator(real_B, real_A), real) # 조건(condition): real_A\n",
    "        loss_fake = criterion_GAN(discriminator(fake_B.detach(), real_A), fake)\n",
    "        loss_D = (loss_real + loss_fake) / 2\n",
    "\n",
    "        # 판별자(discriminator) 업데이트\n",
    "        loss_D.backward()\n",
    "        optimizer_D.step()\n",
    "\n",
    "        done = epoch * len(train_loader) + i\n",
    "        if done % sample_interval == 0:\n",
    "            imgs = next(iter(val_loader)) # 10개의 이미지를 추출해 생성\n",
    "            real_A = imgs[\"B\"].cuda()\n",
    "            real_B = imgs[\"A\"].cuda()\n",
    "            fake_B = generator(real_A)\n",
    "            # real_A: 조건(condition), fake_B: 변환된 이미지(translated image), real_B: 정답 이미지\n",
    "            img_sample = torch.cat((real_A.data, fake_B.data, real_B.data), -2) # 높이(height)를 기준으로 이미지를 연결하기\n",
    "            save_image(img_sample, f\"{done}.png\", nrow=5, normalize=True)\n",
    "\n",
    "    # 하나의 epoch이 끝날 때마다 로그(log) 출력\n",
    "    print(f\"[Epoch {epoch}/{n_epochs}] [D loss: {loss_D.item():.6f}] [G pixel loss: {loss_pixel.item():.6f}, adv loss: {loss_GAN.item()}] [Elapsed time: {time.time() - start_time:.2f}s]\")"
   ]
  }
 ],
 "metadata": {
  "accelerator": "GPU",
  "colab": {
   "gpuType": "V100",
   "machine_shape": "hm",
   "provenance": []
  },
  "gpuClass": "standard",
  "kernelspec": {
   "display_name": "Python 3 (ipykernel)",
   "language": "python",
   "name": "python3"
  },
  "language_info": {
   "codemirror_mode": {
    "name": "ipython",
    "version": 3
   },
   "file_extension": ".py",
   "mimetype": "text/x-python",
   "name": "python",
   "nbconvert_exporter": "python",
   "pygments_lexer": "ipython3",
   "version": "3.9.0"
  }
 },
 "nbformat": 4,
 "nbformat_minor": 1
}
